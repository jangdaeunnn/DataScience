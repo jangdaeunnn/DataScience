{
  "nbformat": 4,
  "nbformat_minor": 0,
  "metadata": {
    "colab": {
      "provenance": [],
      "authorship_tag": "ABX9TyN8vM3YhiEzcB00HzfgpYy0",
      "include_colab_link": true
    },
    "kernelspec": {
      "name": "python3",
      "display_name": "Python 3"
    },
    "language_info": {
      "name": "python"
    }
  },
  "cells": [
    {
      "cell_type": "markdown",
      "metadata": {
        "id": "view-in-github",
        "colab_type": "text"
      },
      "source": [
        "<a href=\"https://colab.research.google.com/github/jangdaeunnn/DataScience/blob/master/Untitled30_ipynb%EC%9D%98_%EC%82%AC%EB%B3%B8.ipynb\" target=\"_parent\"><img src=\"https://colab.research.google.com/assets/colab-badge.svg\" alt=\"Open In Colab\"/></a>"
      ]
    },
    {
      "cell_type": "code",
      "execution_count": null,
      "metadata": {
        "colab": {
          "base_uri": "https://localhost:8080/"
        },
        "id": "2Jz3uLDEdrav",
        "outputId": "4f06a8bf-2b0e-4af2-bd7a-0c4caeaae6e3"
      },
      "outputs": [
        {
          "output_type": "stream",
          "name": "stdout",
          "text": [
            "1,3,5,7,9,11,13,15,17,19,21,23\n",
            "66\n"
          ]
        }
      ],
      "source": [
        "x=input()\n",
        "a=x.split(',')\n",
        "b=0\n",
        "#type(a) 리스트 길이가 영인거 추가하기\n",
        "if len(a)%2==0:\n",
        "  for i in range(0,int(len(a)/2)):\n",
        "    b+=int(a[2*i])\n",
        "elif len(a)%2!=0:\n",
        "  for i in range(0,int((len(a)+1)/2)):\n",
        "    b+=int(a[2*i])\n",
        "else:\n",
        "   b==0\n",
        "\n",
        "print(b)\n",
        "\n"
      ]
    },
    {
      "cell_type": "code",
      "source": [
        "12%4"
      ],
      "metadata": {
        "colab": {
          "base_uri": "https://localhost:8080/"
        },
        "id": "5YTV51yld_Yh",
        "outputId": "f6986add-e3a5-4074-9ad0-a35493b8dddd"
      },
      "execution_count": null,
      "outputs": [
        {
          "output_type": "execute_result",
          "data": {
            "text/plain": [
              "0"
            ]
          },
          "metadata": {},
          "execution_count": 3
        }
      ]
    }
  ]
}